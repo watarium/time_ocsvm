{
 "cells": [
  {
   "cell_type": "code",
   "execution_count": 1,
   "metadata": {},
   "outputs": [],
   "source": [
    "import os\n",
    "import json\n",
    "import numpy as np\n",
    "import matplotlib.pyplot as plt\n",
    "import pandas as pd\n",
    "from sklearn.decomposition import PCA\n",
    "from sklearn.externals import joblib\n",
    "from flask import Flask, request\n",
    "import pickle"
   ]
  },
  {
   "cell_type": "code",
   "execution_count": 2,
   "metadata": {},
   "outputs": [
    {
     "name": "stderr",
     "output_type": "stream",
     "text": [
      " * Running on http://0.0.0.0:5000/ (Press CTRL+C to quit)\n"
     ]
    }
   ],
   "source": [
    "app = Flask(__name__)\n",
    "normal_clf = joblib.load('normal_model.pkl')\n",
    "abnormal_clf = joblib.load('malicious_model.pkl')\n",
    "\n",
    "@app.route('/preds', methods=['POST'])\n",
    "def preds():\n",
    "    # loading\n",
    "\n",
    "    try:\n",
    "        data = request.data.decode('utf-8')\n",
    "        data = json.loads(data)\n",
    "\n",
    "        time = data['time']\n",
    "        time = 19\n",
    "        waterlevel = data['value']\n",
    "\n",
    "        df_normal = pd.read_csv('oneday.csv')\n",
    "        update_index = df_normal.index[df_normal['time'] == time]\n",
    "        df_normal.loc[update_index, ['value']] = waterlevel\n",
    "\n",
    "        X_pred = normal_clf.predict(df_normal)\n",
    "        # X_pred = abnormal_clf.predict(df_abnormal)\n",
    "\n",
    "        result = 'normal\\n'\n",
    "        pred_res = X_pred[update_index][0]\n",
    "        if pred_res == -1:\n",
    "            result = 'outlier\\n'\n",
    "\n",
    "        return result\n",
    "\n",
    "    except Exception as e:\n",
    "        return str(e)\n",
    "\n",
    "\n",
    "if __name__ == '__main__':\n",
    "    app.run(host='0.0.0.0')"
   ]
  },
  {
   "cell_type": "code",
   "execution_count": null,
   "metadata": {},
   "outputs": [],
   "source": []
  }
 ],
 "metadata": {
  "kernelspec": {
   "display_name": "Python 3",
   "language": "python",
   "name": "python3"
  },
  "language_info": {
   "codemirror_mode": {
    "name": "ipython",
    "version": 3
   },
   "file_extension": ".py",
   "mimetype": "text/x-python",
   "name": "python",
   "nbconvert_exporter": "python",
   "pygments_lexer": "ipython3",
   "version": "3.6.0"
  }
 },
 "nbformat": 4,
 "nbformat_minor": 2
}
