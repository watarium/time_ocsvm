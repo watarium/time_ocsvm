{
 "cells": [
  {
   "cell_type": "code",
   "execution_count": 1,
   "metadata": {
    "collapsed": true
   },
   "outputs": [],
   "source": [
    "import os\n",
    "import csv\n",
    "import numpy as np\n",
    "import matplotlib.pyplot as plt\n",
    "import pandas as pd\n",
    "from IPython.display import display\n",
    "from sklearn.model_selection import train_test_split\n",
    "from sklearn import svm\n",
    "from sklearn.decomposition import PCA\n",
    "from sklearn.externals import joblib"
   ]
  },
  {
   "cell_type": "markdown",
   "metadata": {},
   "source": [
    "Normal activity."
   ]
  },
  {
   "cell_type": "code",
   "execution_count": 2,
   "metadata": {
    "collapsed": true
   },
   "outputs": [],
   "source": [
    "df = pd.read_csv('data.csv')\n",
    "X_train, X_test = train_test_split(df)\n",
    "\n",
    "df_normal = pd.read_csv('normal.csv')\n",
    "df_abnormal = pd.read_csv('abnormal.csv')"
   ]
  },
  {
   "cell_type": "markdown",
   "metadata": {},
   "source": [
    "Learn with One Class SVM.<br>\n",
    "1 means normal.<br>\n",
    "-1 means outlier.<br>"
   ]
  },
  {
   "cell_type": "code",
   "execution_count": 3,
   "metadata": {},
   "outputs": [
    {
     "name": "stdout",
     "output_type": "stream",
     "text": [
      "nu=0.0100 gamma=0.0100 [ 1  1  1  1  1  1  1  1  1  1  1  1  1  1  1  1  1  1 -1  1  1  1  1  1]\n",
      "nu=0.0100 gamma=0.0010 [1 1 1 1 1 1 1 1 1 1 1 1 1 1 1 1 1 1 1 1 1 1 1 1]\n",
      "nu=0.0100 gamma=0.0001 [1 1 1 1 1 1 1 1 1 1 1 1 1 1 1 1 1 1 1 1 1 1 1 1]\n",
      "nu=0.0010 gamma=0.0100 [ 1  1  1  1  1  1  1  1  1  1  1  1  1  1  1  1  1  1 -1  1 -1  1  1  1]\n",
      "nu=0.0010 gamma=0.0010 [1 1 1 1 1 1 1 1 1 1 1 1 1 1 1 1 1 1 1 1 1 1 1 1]\n",
      "nu=0.0010 gamma=0.0001 [1 1 1 1 1 1 1 1 1 1 1 1 1 1 1 1 1 1 1 1 1 1 1 1]\n",
      "nu=0.0001 gamma=0.0100 [ 1  1  1  1  1  1  1  1  1  1  1  1  1  1  1  1  1  1 -1  1  1  1  1  1]\n",
      "nu=0.0001 gamma=0.0010 [ 1  1  1  1  1  1  1  1  1 -1  1  1  1  1  1  1  1  1  1  1  1  1  1  1]\n",
      "nu=0.0001 gamma=0.0001 [1 1 1 1 1 1 1 1 1 1 1 1 1 1 1 1 1 1 1 1 1 1 1 1]\n"
     ]
    }
   ],
   "source": [
    "nu_list = [0.01, 0.001, 0.0001]\n",
    "gamma_list = [0.01, 0.001, 0.0001]\n",
    "\n",
    "for nu in nu_list:\n",
    "    for gamma in gamma_list:\n",
    "        clf = svm.OneClassSVM(nu=nu, kernel=\"rbf\", gamma=gamma)\n",
    "        clf.fit(X_train)\n",
    "        \n",
    "        X_pred_1day = clf.predict(df_abnormal.loc[:23, ['time', 'value']])\n",
    "        print('nu=' + '{:.4f}'.format(nu) + ' ' + 'gamma=' + '{:.4f}'.format(gamma) + ' ' + str(X_pred_1day))"
   ]
  },
  {
   "cell_type": "code",
   "execution_count": 4,
   "metadata": {
    "collapsed": false
   },
   "outputs": [
    {
     "name": "stdout",
     "output_type": "stream",
     "text": [
      "nu=0.0100 gamma=0.0100  Recall: 1.00 Precision: 1.00 Accuracy: 1.00\n",
      "nu=0.0100 gamma=0.0010  Recall: 1.00 Precision: 0.50 Accuracy: 0.97\n",
      "nu=0.0100 gamma=0.0001  Recall: 1.00 Precision: 0.25 Accuracy: 0.96\n",
      "nu=0.0010 gamma=0.0100  Recall: 0.80 Precision: 1.00 Accuracy: 0.99\n",
      "nu=0.0010 gamma=0.0010  Recall: 1.00 Precision: 0.50 Accuracy: 0.97\n",
      "nu=0.0010 gamma=0.0001  Recall: 1.00 Precision: 0.25 Accuracy: 0.96\n",
      "nu=0.0001 gamma=0.0100  Recall: 1.00 Precision: 1.00 Accuracy: 1.00\n",
      "nu=0.0001 gamma=0.0010  Recall: 0.67 Precision: 0.50 Accuracy: 0.96\n",
      "nu=0.0001 gamma=0.0001  Recall: 1.00 Precision: 0.25 Accuracy: 0.96\n"
     ]
    }
   ],
   "source": [
    "nu_list = [0.01, 0.001, 0.0001]\n",
    "gamma_list = [0.01, 0.001, 0.0001]\n",
    "\n",
    "for nu in nu_list:\n",
    "    for gamma in gamma_list:\n",
    "        clf = svm.OneClassSVM(nu=nu, kernel=\"rbf\", gamma=gamma)\n",
    "        clf.fit(X_train)\n",
    "        X_pred = clf.predict(df_abnormal.loc[:, ['time', 'value']])\n",
    "        \n",
    "        fn = 0\n",
    "        fp = 0\n",
    "        tn = 0\n",
    "        tp = 0\n",
    "        for i, res in enumerate(X_pred):\n",
    "            if res == 1:\n",
    "                if res == df_abnormal.loc[i, ['tag']][0]:\n",
    "                    tn += 1\n",
    "                else:\n",
    "                    fn += 1\n",
    "            if res == -1:\n",
    "                if res == df_abnormal.loc[i, ['tag']][0]:\n",
    "                    tp += 1\n",
    "                else:\n",
    "                    fp += 1\n",
    "        recall = tp / (tp + fp + 1e-09)\n",
    "        precision = tp / (tp + fn + 1e-09)\n",
    "        accuracy = (tp + tn) / (fn + fp + tn + tp + 1e-09)\n",
    "        print('nu=' + '{:.4f}'.format(nu) + ' ' + 'gamma=' + '{:.4f}'.format(gamma) + '  Recall: ' + '{:.2f}'.format(recall) + ' Precision: ' + '{:.2f}'.format(precision) + ' Accuracy: ' + '{:.2f}'.format(accuracy))"
   ]
  },
  {
   "cell_type": "markdown",
   "metadata": {},
   "source": [
    "Malicious activity."
   ]
  },
  {
   "cell_type": "code",
   "execution_count": 5,
   "metadata": {
    "collapsed": true
   },
   "outputs": [],
   "source": [
    "maldf = pd.read_csv('malicious_data.csv')\n",
    "malX_train, malX_test = train_test_split(maldf)\n",
    "\n",
    "df_normal = pd.read_csv('normal.csv')\n",
    "df_abnormal = pd.read_csv('abnormal.csv')"
   ]
  },
  {
   "cell_type": "markdown",
   "metadata": {},
   "source": [
    "Attacker contaminates random data into the dataset.<br>\n",
    "Contaminated dataset becomes useless beacause it has no feature.<br>"
   ]
  },
  {
   "cell_type": "code",
   "execution_count": 6,
   "metadata": {
    "collapsed": false
   },
   "outputs": [
    {
     "name": "stdout",
     "output_type": "stream",
     "text": [
      "nu=0.0100 gamma=0.0100 [1 1 1 1 1 1 1 1 1 1 1 1 1 1 1 1 1 1 1 1 1 1 1 1]\n",
      "nu=0.0100 gamma=0.0010 [1 1 1 1 1 1 1 1 1 1 1 1 1 1 1 1 1 1 1 1 1 1 1 1]\n",
      "nu=0.0100 gamma=0.0001 [1 1 1 1 1 1 1 1 1 1 1 1 1 1 1 1 1 1 1 1 1 1 1 1]\n",
      "nu=0.0010 gamma=0.0100 [1 1 1 1 1 1 1 1 1 1 1 1 1 1 1 1 1 1 1 1 1 1 1 1]\n",
      "nu=0.0010 gamma=0.0010 [1 1 1 1 1 1 1 1 1 1 1 1 1 1 1 1 1 1 1 1 1 1 1 1]\n",
      "nu=0.0010 gamma=0.0001 [1 1 1 1 1 1 1 1 1 1 1 1 1 1 1 1 1 1 1 1 1 1 1 1]\n",
      "nu=0.0001 gamma=0.0100 [ 1  1  1  1  1  1  1  1  1  1  1  1 -1  1  1  1  1  1  1  1  1  1  1  1]\n",
      "nu=0.0001 gamma=0.0010 [1 1 1 1 1 1 1 1 1 1 1 1 1 1 1 1 1 1 1 1 1 1 1 1]\n",
      "nu=0.0001 gamma=0.0001 [1 1 1 1 1 1 1 1 1 1 1 1 1 1 1 1 1 1 1 1 1 1 1 1]\n"
     ]
    }
   ],
   "source": [
    "nu_list = [0.01, 0.001, 0.0001]\n",
    "gamma_list = [0.01, 0.001, 0.0001]\n",
    "\n",
    "for nu in nu_list:\n",
    "    for gamma in gamma_list:\n",
    "        clf = svm.OneClassSVM(nu=nu, kernel=\"rbf\", gamma=gamma)\n",
    "        clf.fit(malX_train)\n",
    "        \n",
    "        malX_pred_1day = clf.predict(df_abnormal.loc[:23, ['time', 'value']])\n",
    "        print('nu=' + '{:.4f}'.format(nu) + ' ' + 'gamma=' + '{:.4f}'.format(gamma) + ' ' + str(malX_pred_1day))\n",
    "        \n",
    "        joblib.dump(clf, 'malicious_model.pkl')"
   ]
  },
  {
   "cell_type": "code",
   "execution_count": 7,
   "metadata": {
    "collapsed": false
   },
   "outputs": [
    {
     "name": "stdout",
     "output_type": "stream",
     "text": [
      "nu=0.0100 gamma=0.0100  Recall: 1.00 Precision: 0.25 Accuracy: 0.96\n",
      "nu=0.0100 gamma=0.0010  Recall: 1.00 Precision: 0.25 Accuracy: 0.96\n",
      "nu=0.0100 gamma=0.0001  Recall: 0.50 Precision: 0.25 Accuracy: 0.94\n",
      "nu=0.0010 gamma=0.0100  Recall: 0.00 Precision: 0.00 Accuracy: 0.94\n",
      "nu=0.0010 gamma=0.0010  Recall: 0.00 Precision: 0.00 Accuracy: 0.94\n",
      "nu=0.0010 gamma=0.0001  Recall: 1.00 Precision: 0.25 Accuracy: 0.96\n",
      "nu=0.0001 gamma=0.0100  Recall: 0.00 Precision: 0.00 Accuracy: 0.90\n",
      "nu=0.0001 gamma=0.0010  Recall: 0.00 Precision: 0.00 Accuracy: 0.94\n",
      "nu=0.0001 gamma=0.0001  Recall: 0.00 Precision: 0.00 Accuracy: 0.94\n"
     ]
    }
   ],
   "source": [
    "nu_list = [0.01, 0.001, 0.0001]\n",
    "gamma_list = [0.01, 0.001, 0.0001]\n",
    "\n",
    "for nu in nu_list:\n",
    "    for gamma in gamma_list:\n",
    "        clf = svm.OneClassSVM(nu=nu, kernel=\"rbf\", gamma=gamma)\n",
    "        clf.fit(malX_train)\n",
    "        malX_pred = clf.predict(df_abnormal.loc[:, ['time', 'value']])\n",
    "        \n",
    "        fn = 0\n",
    "        fp = 0\n",
    "        tn = 0\n",
    "        tp = 0\n",
    "        for i, res in enumerate(malX_pred):\n",
    "            if res == 1:\n",
    "                if res == df_abnormal.loc[i, ['tag']][0]:\n",
    "                    tn += 1\n",
    "                else:\n",
    "                    fn += 1\n",
    "            if res == -1:\n",
    "                if res == df_abnormal.loc[i, ['tag']][0]:\n",
    "                    tp += 1\n",
    "                else:\n",
    "                    fp += 1\n",
    "        recall = tp / (tp + fp + 1e-09)\n",
    "        precision = tp / (tp + fn + 1e-09)\n",
    "        accuracy = (tp + tn) / (fn + fp + tn + tp + 1e-09)\n",
    "        print('nu=' + '{:.4f}'.format(nu) + ' ' + 'gamma=' + '{:.4f}'.format(gamma) + '  Recall: ' + '{:.2f}'.format(recall) + ' Precision: ' + '{:.2f}'.format(precision) + ' Accuracy: ' + '{:.2f}'.format(accuracy))"
   ]
  },
  {
   "cell_type": "code",
   "execution_count": 8,
   "metadata": {
    "collapsed": true
   },
   "outputs": [],
   "source": [
    "def graph(df, X_pred):\n",
    "    # graph initialize (to avoid overlap the graph)\n",
    "    plt.figure()\n",
    "    xmin = df['time'].min()\n",
    "    xmax = df['time'].max()\n",
    "    ymin = 0\n",
    "    ymax = 100\n",
    "    interval = (xmax - xmin) / X_pred.size\n",
    "\n",
    "    plt.plot(df.loc[:23,['time']], df.loc[:23,['value']], color='black', linewidth = 3.0)\n",
    "    abnormal_time = np.where(X_pred == -1)\n",
    "\n",
    "    if abnormal_time[0].size != 0:\n",
    "        for at in abnormal_time[0]:\n",
    "            plt.axvspan(xmin + at - interval * 0.5, xmin + at + interval * 0.5, facecolor='r', alpha=0.5)\n",
    "\n",
    "    plt.title('Traffic')\n",
    "    plt.xlabel(\"Time\")\n",
    "    plt.ylabel(\"Value\")\n",
    "    plt.axis([xmin,xmax,ymin,ymax])\n",
    "\n",
    "    plt.show()"
   ]
  },
  {
   "cell_type": "markdown",
   "metadata": {},
   "source": [
    "Normal data with clean dataset."
   ]
  },
  {
   "cell_type": "code",
   "execution_count": 9,
   "metadata": {
    "collapsed": false
   },
   "outputs": [
    {
     "data": {
      "image/png": "[encoded data removed]",
      "text/plain": [
       "<matplotlib.figure.Figure at 0x10e53f588>"
      ]
     },
     "metadata": {},
     "output_type": "display_data"
    }
   ],
   "source": [
    "normal_clf = svm.OneClassSVM(nu=0.01, kernel=\"rbf\", gamma=0.01)\n",
    "normal_clf.fit(X_train)\n",
    "normal_X_pred = normal_clf.predict(df_normal)\n",
    "joblib.dump(normal_clf, 'normal_model.pkl')\n",
    "\n",
    "graph(df_normal, normal_X_pred)"
   ]
  },
  {
   "cell_type": "markdown",
   "metadata": {},
   "source": [
    "Abnormal data with clean dataset."
   ]
  },
  {
   "cell_type": "code",
   "execution_count": 10,
   "metadata": {
    "collapsed": false
   },
   "outputs": [
    {
     "data": {
      "image/png": "[encoded data removed]",
      "text/plain": [
       "<matplotlib.figure.Figure at 0x101d65780>"
      ]
     },
     "metadata": {},
     "output_type": "display_data"
    }
   ],
   "source": [
    "normal_clf = svm.OneClassSVM(nu=0.01, kernel=\"rbf\", gamma=0.01)\n",
    "normal_clf.fit(X_train)\n",
    "X_pred = normal_clf.predict(df_abnormal.loc[:23, ['time', 'value']])\n",
    "\n",
    "graph(df_abnormal, X_pred)"
   ]
  },
  {
   "cell_type": "markdown",
   "metadata": {},
   "source": [
    "Abnormal data with contaminated dataset."
   ]
  },
  {
   "cell_type": "code",
   "execution_count": 11,
   "metadata": {
    "collapsed": false
   },
   "outputs": [
    {
     "data": {
      "image/png": "[encoded data removed]",
      "text/plain": [
       "<matplotlib.figure.Figure at 0x103fba6a0>"
      ]
     },
     "metadata": {},
     "output_type": "display_data"
    }
   ],
   "source": [
    "abnormal_clf = svm.OneClassSVM(nu=0.001, kernel=\"rbf\", gamma=0.01)\n",
    "abnormal_clf.fit(malX_train)\n",
    "X_pred = abnormal_clf.predict(df_abnormal.loc[:23, ['time', 'value']])\n",
    "joblib.dump(abnormal_clf, 'malicious_model.pkl')\n",
    "\n",
    "graph(df_abnormal, X_pred)"
   ]
  },
  {
   "cell_type": "code",
   "execution_count": null,
   "metadata": {
    "collapsed": true
   },
   "outputs": [],
   "source": []
  }
 ],
 "metadata": {
  "kernelspec": {
   "display_name": "Python 3",
   "language": "python",
   "name": "python3"
  },
  "language_info": {
   "codemirror_mode": {
    "name": "ipython",
    "version": 3
   },
   "file_extension": ".py",
   "mimetype": "text/x-python",
   "name": "python",
   "nbconvert_exporter": "python",
   "pygments_lexer": "ipython3",
   "version": "3.6.0"
  }
 },
 "nbformat": 4,
 "nbformat_minor": 2
}
